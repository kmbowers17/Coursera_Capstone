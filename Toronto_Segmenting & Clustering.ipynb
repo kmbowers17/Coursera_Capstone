
# coding: utf-8

# In[5]:


import numpy as np # library to handle data in a vectorized manner

import pandas as pd # library for data analsysis
pd.set_option('display.max_columns', None)
pd.set_option('display.max_rows', None)

import json # library to handle JSON files

get_ipython().system("conda install -c conda-forge geopy --yes # uncomment this line if you haven't completed the Foursquare API lab")
from geopy.geocoders import Nominatim # convert an address into latitude and longitude values

import requests # library to handle requests
from pandas.io.json import json_normalize # tranform JSON file into a pandas dataframe

# Matplotlib and associated plotting modules
import matplotlib.cm as cm
import matplotlib.colors as colors

# import k-means from clustering stage
from sklearn.cluster import KMeans

get_ipython().system("conda install -c conda-forge folium=0.5.0 --yes # uncomment this line if you haven't completed the Foursquare API lab")
import folium # map rendering library

print('Libraries imported.')


# In[105]:


import requests


# In[106]:


url = requests.get('https://en.wikipedia.org/wiki/List_of_postal_codes_of_Canada:_M').text


# In[119]:


from bs4 import BeautifulSoup
soup = BeautifulSoup(url,)
print(soup.prettify())


# In[121]:


table = soup.find('table',{'class':'wikitable sortable'})
headers = [header.text for header in table.find_all('th')]
rows = []

table


# In[164]:


#read in HTML table as dataframe
df = pd.read_html(str(table))[0]

#designate first row as column headers
df.columns = df.iloc[0]

#drop redundant first row
df = df.drop([0])

#inspect new df
df


# In[165]:


#remove rows with "Not assigned" borough
df_new = df[df.Borough != 'Not assigned']
df_new


# In[166]:


#rename columns per assignment instructions
df_new = df_new.rename(columns={'Postcode': 'PostalCode', 'Borough': 'Borough', 'Neighbourhood': 'Neighborhood'})
df_new


# In[191]:


#combine rows for postal codes with multiple neighborhoods
df_combined = df_new.groupby(['PostalCode', 'Borough'])['Neighborhood'].apply(', '.join).reset_index()
df_combined


# In[193]:


#Update the one "Not assigned" neighborhood with the corresponding borough name
df_combined.replace(to_replace='Not assigned', value="Queen's Park", inplace=True, limit=None, regex=False, method='pad')
df_combined

